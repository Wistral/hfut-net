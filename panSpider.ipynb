{
 "cells": [
  {
   "cell_type": "code",
   "execution_count": 27,
   "metadata": {
    "ExecuteTime": {
     "end_time": "2019-09-08T08:31:59.846960Z",
     "start_time": "2019-09-08T08:31:59.840958Z"
    }
   },
   "outputs": [],
   "source": [
    "import requests\n",
    "\n",
    "opener = requests.Session()\n",
    "url = 'https://pan.baidu.com/s/1EwqgZef1jiFWkfGDEFmSwA'\n",
    "path = url.split('.com')[-1]\n",
    "headers = {':authority': 'pan.baiduwp.com',\n",
    " ':method': 'GET',\n",
    " ':path': path,\n",
    " ':scheme': 'https',\n",
    " 'accept': 'text/html,application/xhtml+xml,application/xml;q=0.9,image/webp,image/apng,*/*;q=0.8,application/signed-exchange;v=b3',\n",
    " 'accept-encoding': 'gzip, deflate, br',\n",
    " 'accept-language': 'zh-TW,zh-CN;q=0.9,zh;q=0.8,en-GB;q=0.7,en;q=0.6,ja;q=0.5',\n",
    " 'cache-control': 'no-cache',\n",
    " 'pragma': 'no-cache',\n",
    " 'referer': f'{url}',\n",
    " 'sec-fetch-mode': 'navigate',\n",
    " 'sec-fetch-site': 'none',\n",
    " 'sec-fetch-user': '?1',\n",
    " 'upgrade-insecure-requests': '1',\n",
    " 'user-agent': 'Opera/9.80 (Windows NT 6.0) Presto/2.12.388 Version/12.14'}"
   ]
  },
  {
   "cell_type": "code",
   "execution_count": 29,
   "metadata": {
    "ExecuteTime": {
     "end_time": "2019-09-08T08:32:22.389814Z",
     "start_time": "2019-09-08T08:32:22.382232Z"
    }
   },
   "outputs": [
    {
     "data": {
      "text/plain": [
       "'/s/1EwqgZef1jiFWkfGDEFmSwA'"
      ]
     },
     "execution_count": 29,
     "metadata": {},
     "output_type": "execute_result"
    }
   ],
   "source": [
    "path"
   ]
  },
  {
   "cell_type": "code",
   "execution_count": 7,
   "metadata": {
    "ExecuteTime": {
     "end_time": "2019-09-08T07:56:23.953703Z",
     "start_time": "2019-09-08T07:56:23.223573Z"
    }
   },
   "outputs": [
    {
     "name": "stdout",
     "output_type": "stream",
     "text": [
      "503\n"
     ]
    }
   ],
   "source": [
    "req = opener.get(url.replace('baidu', 'baiduwp'))\n",
    "print(req.status_code)"
   ]
  },
  {
   "cell_type": "code",
   "execution_count": 22,
   "metadata": {
    "ExecuteTime": {
     "end_time": "2019-09-08T08:24:35.678674Z",
     "start_time": "2019-09-08T08:24:35.673505Z"
    }
   },
   "outputs": [
    {
     "data": {
      "text/plain": [
       "-1"
      ]
     },
     "execution_count": 22,
     "metadata": {},
     "output_type": "execute_result"
    }
   ],
   "source": [
    "soup.get_text().find('jschl_answer')"
   ]
  },
  {
   "cell_type": "code",
   "execution_count": 30,
   "metadata": {
    "ExecuteTime": {
     "end_time": "2019-09-08T08:32:50.326877Z",
     "start_time": "2019-09-08T08:32:50.319743Z"
    }
   },
   "outputs": [
    {
     "name": "stdout",
     "output_type": "stream",
     "text": [
      "https://pan.baiduwp.com/s/1EwqgZef1jiFWkfGDEFmSwA?s=946256685186ff10b4ff8ae72ce9a3a6e6df9a72-1567929383-1800-AeIwaaaBceT1V4qQOD4Dp3ZYNn8nsdEuCLHSpmaWkejH2GKTk%2BdPGl07iQHdTW4%2BlzaUR24SkAmqRFG4GiH80cAwaeeKuGyIMVOk3oOj1%2FxlI1l05WBtOBflj1lzQPUkgCN5rko09Wcb5pJatLRwUug%3D&jschl_vc=8cc04ca97cf656fcd97f3f8a56a736d2&pass=1567929387.868-AsX5IS07XF\n"
     ]
    }
   ],
   "source": [
    "from bs4 import BeautifulSoup\n",
    "from urllib.parse import urlencode\n",
    "\n",
    "soup = BeautifulSoup(req.content.decode('utf-8'))\n",
    "ret = soup.find_all('input')[:-1]\n",
    "\n",
    "full = url.replace('baidu', 'baiduwp') + '?' + urlencode({node.attrs['name']: node.attrs['value'] for node in ret})\n",
    "print(full)\n",
    "# for node in ret:\n",
    "#     d = node.attrs\n",
    "#     print(d['name'], d['value'])"
   ]
  },
  {
   "cell_type": "code",
   "execution_count": 32,
   "metadata": {
    "ExecuteTime": {
     "end_time": "2019-09-08T08:33:32.781494Z",
     "start_time": "2019-09-08T08:33:31.557715Z"
    }
   },
   "outputs": [],
   "source": [
    "req2 = opener.get(full)"
   ]
  },
  {
   "cell_type": "code",
   "execution_count": 36,
   "metadata": {
    "ExecuteTime": {
     "end_time": "2019-09-08T08:34:59.587287Z",
     "start_time": "2019-09-08T08:34:59.582140Z"
    }
   },
   "outputs": [
    {
     "data": {
      "text/plain": [
       "'<!DOCTYPE HTML>\\n<html lang=\"en-US\">\\n<head>\\n  <meta charset=\"UTF-8\" />\\n  <meta http-equiv=\"Content-Type\" content=\"text/html; charset=UTF-8\" />\\n  <meta http-equiv=\"X-UA-Compatible\" content=\"IE=Edge,chrome=1\" />\\n  <meta name=\"robots\" content=\"noindex, nofollow\" />\\n  <meta name=\"viewport\" content=\"width=device-width, initial-scale=1, maximum-scale=1\" />\\n  <title>Just a moment...</title>\\n  <style type=\"text/css\">\\n    html, body {width: 100%; height: 100%; margin: 0; padding: 0;}\\n    body {background-color: #ffffff; font-family: Helvetica, Arial, sans-serif; font-size: 100%;}\\n    h1 {font-size: 1.5em; color: #404040; text-align: center;}\\n    p {font-size: 1em; color: #404040; text-align: center; margin: 10px 0 0 0;}\\n    #spinner {margin: 0 auto 30px auto; display: block;}\\n    .attribution {margin-top: 20px;}\\n    @-webkit-keyframes bubbles { 33%: { -webkit-transform: translateY(10px); transform: translateY(10px); } 66% { -webkit-transform: translateY(-10px); transform: translateY(-10px); } 100% { -webkit-transform: translateY(0); transform: translateY(0); } }\\n    @keyframes bubbles { 33%: { -webkit-transform: translateY(10px); transform: translateY(10px); } 66% { -webkit-transform: translateY(-10px); transform: translateY(-10px); } 100% { -webkit-transform: translateY(0); transform: translateY(0); } }\\n    .bubbles { background-color: #404040; width:15px; height: 15px; margin:2px; border-radius:100%; -webkit-animation:bubbles 0.6s 0.07s infinite ease-in-out; animation:bubbles 0.6s 0.07s infinite ease-in-out; -webkit-animation-fill-mode:both; animation-fill-mode:both; display:inline-block; }\\n  </style>\\n\\n    <script type=\"text/javascript\">\\n  //<![CDATA[\\n  (function(){\\n    var a = function() {try{return !!window.addEventListener} catch(e) {return !1} },\\n    b = function(b, c) {a() ? document.addEventListener(\"DOMContentLoaded\", b, c) : document.attachEvent(\"onreadystatechange\", b)};\\n    b(function(){\\n      var a = document.getElementById(\\'cf-content\\');a.style.display = \\'block\\';\\n      setTimeout(function(){\\n        var s,t,o,p,b,r,e,a,k,i,n,g,f, gbSNLrn={\"aoOUERXr\":+((!+[]+!![]+!![]+!![]+!![]+!![]+!![]+!![]+[])+(+!![])+(!+[]+!![]+!![]+!![]+!![]+!![]+!![])+(!+[]+!![]+!![]+!![]+!![])+(+[])+(!+[]+!![]+!![]+!![])+(!+[]+!![])+(!+[]+!![]+!![]+!![])+(!+[]+!![]+!![]))/+((!+[]+!![]+[])+(+!![])+(!+[]+!![]+!![]+!![]+!![]+!![]+!![])+(+!![])+(!+[]+!![]+!![]+!![])+(!+[]+!![]+!![]+!![]+!![]+!![]+!![])+(!+[]+!![]+!![]+!![])+(!+[]+!![])+(!+[]+!![]+!![]+!![]+!![]+!![]+!![]+!![]))};\\n        g = String.fromCharCode;\\n        o = \"ABCDEFGHIJKLMNOPQRSTUVWXYZabcdefghijklmnopqrstuvwxyz0123456789+/=\";\\n        e = function(s) {\\n          s += \"==\".slice(2 - (s.length & 3));\\n          var bm, r = \"\", r1, r2, i = 0;\\n          for (; i < s.length;) {\\n              bm = o.indexOf(s.charAt(i++)) << 18 | o.indexOf(s.charAt(i++)) << 12\\n                      | (r1 = o.indexOf(s.charAt(i++))) << 6 | (r2 = o.indexOf(s.charAt(i++)));\\n              r += r1 === 64 ? g(bm >> 16 & 255)\\n                      : r2 === 64 ? g(bm >> 16 & 255, bm >> 8 & 255)\\n                      : g(bm >> 16 & 255, bm >> 8 & 255, bm & 255);\\n          }\\n          return r;\\n        };\\n        t = document.createElement(\\'div\\');\\n        t.innerHTML=\"<a href=\\'/\\'>x</a>\";\\n        t = t.firstChild.href;r = t.match(/https?:\\\\/\\\\//)[0];\\n        t = t.substr(r.length); t = t.substr(0,t.length-1); k = \\'cf-dn-RLDeRGyTf\\';\\n        a = document.getElementById(\\'jschl-answer\\');\\n        f = document.getElementById(\\'challenge-form\\');\\n        ;gbSNLrn.aoOUERXr*=+((!+[]+!![]+!![]+!![]+!![]+!![]+!![]+!![]+[])+(!+[]+!![]+!![])+(!+[]+!![]+!![]+!![]+!![]+!![]+!![]+!![])+(+[])+(!+[]+!![]+!![]+!![])+(+!![])+(!+[]+!![]+!![]+!![]+!![]+!![])+(!+[]+!![]+!![]+!![])+(+!![]))/+((!+[]+!![]+!![]+!![]+!![]+!![]+!![]+!![]+!![]+[])+(!+[]+!![])+(!+[]+!![])+(!+[]+!![]+!![]+!![]+!![]+!![])+(!+[]+!![]+!![])+(!+[]+!![]+!![]+!![]+!![])+(+!![])+(!+[]+!![]+!![])+(!+[]+!![]+!![]+!![]+!![]+!![]+!![]+!![]));gbSNLrn.aoOUERXr-=+((!+[]+!![]+!![]+!![]+!![]+!![]+!![]+!![]+[])+(!+[]+!![]+!![]+!![]+!![])+(!+[]+!![]+!![]+!![]+!![]+!![]+!![]+!![])+(!+[]+!![]+!![]+!![]+!![])+(!+[]+!![]+!![]+!![]+!![]+!![]+!![]+!![]+!![])+(!+[]+!![]+!![]+!![]+!![]+!![]+!![]+!![]+!![])+(!+[]+!![]+!![]+!![]+!![])+(+[])+(!+[]+!![]+!![]))/+((!+[]+!![]+[])+(!+[]+!![]+!![]+!![])+(!+[]+!![]+!![]+!![])+(!+[]+!![]+!![]+!![]+!![]+!![]+!![])+(!+[]+!![]+!![]+!![]+!![]+!![]+!![]+!![])+(+!![])+(!+[]+!![]+!![]+!![]+!![])+(+[])+(!+[]+!![]+!![]+!![]+!![]));gbSNLrn.aoOUERXr-=+((!+[]+!![]+!![]+!![]+!![]+!![]+!![]+!![]+[])+(+!![])+(!+[]+!![]+!![]+!![]+!![]+!![]+!![])+(!+[]+!![]+!![]+!![]+!![])+(+[])+(!+[]+!![]+!![]+!![])+(!+[]+!![])+(!+[]+!![]+!![]+!![])+(!+[]+!![]+!![]))/+((!+[]+!![]+!![]+!![]+[])+(!+[]+!![])+(!+[]+!![]+!![]+!![]+!![])+(!+[]+!![])+(+!![])+(!+[]+!![]+!![]+!![]+!![]+!![]+!![])+(!+[]+!![]+!![]+!![])+(!+[]+!![])+(!+[]+!![]+!![]));gbSNLrn.aoOUERXr+=+((!+[]+!![]+!![]+!![]+!![]+!![]+!![]+!![]+[])+(!+[]+!![]+!![])+(!+[]+!![]+!![]+!![]+!![]+!![]+!![]+!![])+(+[])+(!+[]+!![]+!![]+!![])+(+!![])+(!+[]+!![]+!![]+!![]+!![]+!![])+(!+[]+!![]+!![]+!![])+(+!![]))/+((!+[]+!![]+!![]+!![]+!![]+[])+(!+[]+!![]+!![]+!![]+!![]+!![]+!![])+(!+[]+!![])+(!+[]+!![]+!![])+(!+[]+!![]+!![]+!![])+(+[])+(!+[]+!![]+!![]+!![]+!![]+!![])+(+[])+(!+[]+!![]+!![]+!![]+!![]));gbSNLrn.aoOUERXr*=+((!+[]+!![]+!![]+!![]+!![]+!![]+!![]+!![]+!![]+[])+(!+[]+!![]+!![]+!![])+(+!![])+(+[])+(!+[]+!![]+!![]+!![]+!![]+!![]+!![]+!![])+(!+[]+!![]+!![])+(!+[]+!![]+!![]+!![]+!![]+!![]+!![]+!![]+!![])+(!+[]+!![]+!![]+!![]+!![]+!![]+!![]+!![])+(+!![]))/+((!+[]+!![]+!![]+!![]+[])+(!+[]+!![]+!![])+(!+[]+!![])+(+!![])+(!+[]+!![]+!![]+!![])+(!+[]+!![]+!![]+!![])+(!+[]+!![]+!![]+!![]+!![]+!![]+!![])+(!+[]+!![]+!![]+!![]+!![]+!![]+!![])+(!+[]+!![]+!![]+!![]+!![]+!![]+!![]+!![]+!![]));gbSNLrn.aoOUERXr*=+((!+[]+!![]+!![]+!![]+!![]+!![]+!![]+!![]+[])+(+!![])+(!+[]+!![]+!![]+!![]+!![]+!![]+!![])+(!+[]+!![]+!![]+!![]+!![])+(+[])+(!+[]+!![]+!![]+!![])+(!+[]+!![])+(!+[]+!![]+!![]+!![]+!![])+(!+[]+!![]+!![]))/+((!+[]+!![]+!![]+!![]+!![]+!![]+[])+(!+[]+!![]+!![])+(+!![])+(+!![])+(!+[]+!![]+!![]+!![]+!![])+(!+[]+!![]+!![]+!![]+!![]+!![]+!![]+!![]+!![])+(!+[]+!![]+!![]+!![]+!![]+!![])+(!+[]+!![]+!![])+(+!![]));gbSNLrn.aoOUERXr-=+((!+[]+!![]+!![]+!![]+!![]+!![]+!![]+!![]+!![]+[])+(!+[]+!![]+!![]+!![])+(+!![])+(+[])+(!+[]+!![]+!![]+!![]+!![]+!![]+!![]+!![])+(!+[]+!![]+!![])+(!+[]+!![]+!![]+!![]+!![]+!![]+!![]+!![]+!![])+(!+[]+!![]+!![]+!![]+!![]+!![]+!![]+!![])+(+!![]))/+((+!![]+[])+(!+[]+!![]+!![]+!![]+!![]+!![]+!![]+!![])+(+!![])+(!+[]+!![]+!![]+!![]+!![]+!![])+(!+[]+!![]+!![]+!![]+!![]+!![]+!![]+!![])+(!+[]+!![]+!![]+!![]+!![]+!![]+!![])+(+!![])+(!+[]+!![]+!![]+!![])+(!+[]+!![]+!![]));gbSNLrn.aoOUERXr-=+((!+[]+!![]+!![]+!![]+!![]+!![]+!![]+!![]+!![]+[])+(!+[]+!![])+(+[])+(!+[]+!![]+!![]+!![])+(+!![])+(!+[]+!![]+!![]+!![]+!![]+!![]+!![]+!![]+!![])+(!+[]+!![]+!![]+!![]+!![]+!![]+!![]+!![])+(!+[]+!![])+(!+[]+!![]+!![]))/+((!+[]+!![]+[])+(!+[]+!![]+!![])+(!+[]+!![]+!![]+!![]+!![]+!![]+!![]+!![])+(!+[]+!![]+!![]+!![]+!![])+(!+[]+!![]+!![]+!![])+(!+[]+!![]+!![])+(!+[]+!![]+!![]+!![]+!![]+!![]+!![])+(!+[]+!![])+(!+[]+!![]+!![]+!![]+!![]+!![]+!![]));gbSNLrn.aoOUERXr-=+((!+[]+!![]+!![]+!![]+!![]+!![]+!![]+!![]+!![]+[])+(!+[]+!![]+!![]+!![])+(+!![])+(+[])+(!+[]+!![]+!![]+!![]+!![]+!![]+!![]+!![])+(!+[]+!![]+!![])+(!+[]+!![]+!![]+!![]+!![]+!![]+!![]+!![]+!![])+(!+[]+!![]+!![]+!![]+!![]+!![]+!![]+!![])+(+!![]))/+((!+[]+!![]+!![]+!![]+!![]+!![]+[])+(!+[]+!![]+!![]+!![]+!![])+(!+[]+!![]+!![]+!![]+!![])+(!+[]+!![]+!![])+(!+[]+!![]+!![]+!![]+!![])+(!+[]+!![]+!![]+!![]+!![]+!![]+!![]+!![])+(!+[]+!![]+!![])+(+!![])+(!+[]+!![]+!![]+!![]+!![]+!![]+!![]+!![]));gbSNLrn.aoOUERXr+=+((!+[]+!![]+!![]+!![]+!![]+!![]+!![]+!![]+[])+(!+[]+!![]+!![]+!![]+!![])+(!+[]+!![]+!![]+!![]+!![]+!![]+!![]+!![])+(!+[]+!![]+!![]+!![]+!![])+(!+[]+!![]+!![]+!![]+!![]+!![]+!![]+!![]+!![])+(!+[]+!![]+!![]+!![]+!![]+!![]+!![]+!![]+!![])+(!+[]+!![]+!![]+!![]+!![])+(+[])+(!+[]+!![]+!![]))/+((+!![]+[])+(+[])+(!+[]+!![]+!![]+!![]+!![])+(!+[]+!![])+(!+[]+!![])+(!+[]+!![])+(!+[]+!![]+!![]+!![]+!![]+!![]+!![]+!![]+!![])+(!+[]+!![]+!![]+!![]+!![]+!![]+!![]+!![]+!![])+(!+[]+!![]+!![]+!![]+!![]+!![]));gbSNLrn.aoOUERXr+=+((!+[]+!![]+!![]+!![]+!![]+!![]+!![]+!![]+[])+(!+[]+!![]+!![])+(!+[]+!![]+!![]+!![]+!![]+!![]+!![]+!![])+(+[])+(!+[]+!![]+!![]+!![])+(+!![])+(!+[]+!![]+!![]+!![]+!![]+!![])+(!+[]+!![]+!![]+!![])+(+!![]))/+((!+[]+!![]+!![]+!![]+!![]+!![]+!![]+!![]+[])+(!+[]+!![]+!![]+!![]+!![])+(!+[]+!![]+!![]+!![]+!![]+!![]+!![]+!![]+!![])+(!+[]+!![]+!![]+!![]+!![]+!![]+!![]+!![])+(!+[]+!![]+!![]+!![])+(!+[]+!![]+!![]+!![]+!![])+(+[])+(!+[]+!![]+!![]+!![]+!![])+(!+[]+!![]+!![]));gbSNLrn.aoOUERXr-=+((!+[]+!![]+!![]+!![]+!![]+!![]+!![]+!![]+!![]+[])+(!+[]+!![])+(+[])+(!+[]+!![]+!![]+!![])+(+!![])+(!+[]+!![]+!![]+!![]+!![]+!![]+!![]+!![]+!![])+(!+[]+!![]+!![]+!![]+!![]+!![]+!![]+!![])+(!+[]+!![])+(!+[]+!![]+!![]))/+((!+[]+!![]+!![]+!![]+[])+(!+[]+!![]+!![]+!![]+!![])+(!+[]+!![]+!![]+!![])+(!+[]+!![]+!![]+!![]+!![]+!![]+!![]+!![])+(!+[]+!![]+!![]+!![]+!![])+(!+[]+!![]+!![]+!![]+!![]+!![]+!![])+(+[])+(!+[]+!![]+!![]+!![]+!![]+!![]+!![])+(!+[]+!![]+!![]+!![]+!![]+!![]+!![]+!![]+!![]));gbSNLrn.aoOUERXr+=function(p){var p = eval(eval(e(\"ZG9jdW1l\")+(undefined+\"\")[1]+(true+\"\")[0]+(+(+!+[]+[+!+[]]+(!![]+[])[!+[]+!+[]+!+[]]+[!+[]+!+[]]+[+[]])+[])[+!+[]]+g(103)+(true+\"\")[3]+(true+\"\")[0]+\"Element\"+g(66)+(NaN+[Infinity])[10]+\"Id(\"+g(107)+\").\"+e(\"aW5uZXJIVE1M\"))); return +(p)}();gbSNLrn.aoOUERXr*=+((!+[]+!![]+!![]+!![]+!![]+!![]+!![]+!![]+[])+(!+[]+!![]+!![])+(!+[]+!![]+!![]+!![]+!![]+!![]+!![]+!![])+(+[])+(!+[]+!![]+!![]+!![])+(+!![])+(!+[]+!![]+!![]+!![]+!![]+!![])+(!+[]+!![]+!![]+!![])+(+!![]))/(+(+((+!![]+[])+(!+[]+!![]+!![]+!![]+!![]+!![]+!![]+!![])+(!+[]+!![]+!![]+!![])+(!+[]+!![]+!![]+!![]+!![]+!![]+!![]+!![]+!![])+(!+[]+!![])+(!+[]+!![]+!![]+!![])+(!+[]+!![])+(+[])+(!+[]+!![]+!![]+!![])))+(function(p){return eval((true+\"\")[0]+\".ch\"+(false+\"\")[1]+(true+\"\")[1]+Function(\"return escape\")()((\"\")[\"italics\"]())[2]+\"o\"+(undefined+\"\")[2]+(true+\"\")[3]+\"A\"+(true+\"\")[0]+\"(\"+p+\")\")}(+((!+[]+!![]+[])))));gbSNLrn.aoOUERXr*=+((!+[]+!![]+!![]+!![]+!![]+!![]+!![]+!![]+!![]+[])+(!+[]+!![]+!![]+!![])+(+!![])+(+[])+(!+[]+!![]+!![]+!![]+!![]+!![]+!![]+!![])+(!+[]+!![]+!![])+(!+[]+!![]+!![]+!![]+!![]+!![]+!![]+!![]+!![])+(!+[]+!![]+!![]+!![]+!![]+!![]+!![]+!![])+(+!![]))/+((!+[]+!![]+[])+(!+[]+!![]+!![]+!![]+!![]+!![]+!![]+!![]+!![])+(!+[]+!![]+!![]+!![]+!![]+!![]+!![]+!![])+(!+[]+!![]+!![]+!![]+!![])+(!+[]+!![]+!![]+!![]+!![]+!![])+(!+[]+!![]+!![]+!![]+!![]+!![]+!![]+!![]+!![])+(!+[]+!![]+!![]+!![]+!![]+!![]+!![]+!![])+(!+[]+!![]+!![]+!![]+!![]+!![])+(!+[]+!![]+!![]+!![]+!![]+!![]+!![]+!![]+!![]));gbSNLrn.aoOUERXr*=+((!+[]+!![]+!![]+!![]+!![]+!![]+!![]+!![]+[])+(!+[]+!![]+!![])+(!+[]+!![]+!![]+!![]+!![]+!![]+!![]+!![])+(+[])+(!+[]+!![]+!![]+!![])+(+!![])+(!+[]+!![]+!![]+!![]+!![]+!![])+(!+[]+!![]+!![]+!![])+(+!![]))/+((!+[]+!![]+[])+(!+[]+!![]+!![]+!![]+!![]+!![]+!![]+!![])+(+[])+(!+[]+!![]+!![]+!![]+!![]+!![])+(!+[]+!![]+!![]+!![])+(!+[]+!![]+!![]+!![]+!![])+(!+[]+!![]+!![]+!![]+!![]+!![]+!![]+!![])+(!+[]+!![]+!![]+!![]+!![]+!![])+(!+[]+!![]+!![]+!![]+!![]+!![]+!![]+!![]));gbSNLrn.aoOUERXr*=+((!+[]+!![]+!![]+!![]+!![]+!![]+!![]+!![]+[])+(!+[]+!![]+!![])+(!+[]+!![]+!![]+!![]+!![]+!![]+!![]+!![])+(+[])+(!+[]+!![]+!![]+!![])+(+!![])+(!+[]+!![]+!![]+!![]+!![]+!![])+(!+[]+!![]+!![]+!![])+(+!![]))/+((!+[]+!![]+!![]+!![]+!![]+!![]+!![]+!![]+!![]+[])+(!+[]+!![]+!![]+!![]+!![]+!![]+!![]+!![]+!![])+(!+[]+!![]+!![]+!![]+!![]+!![]+!![])+(!+[]+!![]+!![]+!![]+!![]+!![]+!![])+(!+[]+!![]+!![]+!![]+!![]+!![]+!![]+!![])+(!+[]+!![]+!![]+!![]+!![]+!![])+(!+[]+!![]+!![]+!![]+!![]+!![]+!![])+(!+[]+!![]+!![]+!![]+!![]+!![]+!![])+(!+[]+!![]+!![]+!![]+!![]+!![]+!![]));gbSNLrn.aoOUERXr+=+((!+[]+!![]+!![]+!![]+!![]+!![]+!![]+[])+(!+[]+!![]+!![]+!![]+!![]+!![]+!![]+!![]+!![])+(!+[]+!![]+!![]+!![]+!![]+!![]+!![])+(+[])+(+[])+(!+[]+!![]+!![])+(!+[]+!![]+!![]+!![])+(!+[]+!![]+!![])+(!+[]+!![]+!![]+!![]+!![]+!![]+!![]))/+((!+[]+!![]+!![]+[])+(!+[]+!![]+!![]+!![]+!![])+(!+[]+!![]+!![]+!![])+(!+[]+!![]+!![]+!![]+!![]+!![])+(!+[]+!![]+!![]+!![])+(!+[]+!![]+!![]+!![]+!![]+!![]+!![]+!![]+!![])+(!+[]+!![]+!![])+(!+[]+!![]+!![]+!![]+!![]+!![]+!![]+!![]+!![])+(!+[]+!![]+!![]+!![]+!![]+!![]+!![]+!![]));a.value = (+gbSNLrn.aoOUERXr).toFixed(10); \\'; 121\\'\\n        f.action += location.hash;\\n        f.submit();\\n      }, 4000);\\n    }, false);\\n  })();\\n  //]]>\\n</script>\\n\\n\\n</head>\\n<body>\\n  <table width=\"100%\" height=\"100%\" cellpadding=\"20\">\\n    <tr>\\n      <td align=\"center\" valign=\"middle\">\\n          <div class=\"cf-browser-verification cf-im-under-attack\">\\n  <noscript><h1 data-translate=\"turn_on_js\" style=\"color:#bd2426;\">Please turn JavaScript on and reload the page.</h1></noscript>\\n  <div id=\"cf-content\" style=\"display:none\">\\n    \\n    <div>\\n      <div class=\"bubbles\"></div>\\n      <div class=\"bubbles\"></div>\\n      <div class=\"bubbles\"></div>\\n    </div>\\n    <h1><span data-translate=\"checking_browser\">Checking your browser before accessing</span> baiduwp.com.</h1>\\n    \\n    <p data-translate=\"process_is_automatic\">This process is automatic. Your browser will redirect to your requested content shortly.</p>\\n    <p data-translate=\"allow_5_secs\">Please allow up to 5 seconds&hellip;</p>\\n  </div>\\n   \\n  <form id=\"challenge-form\" action=\"/cdn-cgi/l/chk_jschl\" method=\"get\">\\n    <input type=\"hidden\" name=\"s\" value=\"5c139439eaf6d60d0993f900d7cb62e9b5eaa40a-1567931612-1800-AYroZLc5jumfgwe1i+kLMuYGJLJF3E+s38KvKssYHf86NBoE9+JTtcHgnCvRiO1Q0mqQFFZjTqaGqzO0JO0uzQ+73LKsRP7dQsNtCRYIRVoEyNO9I2CSuhmYysiGT25N6RzUIQodPkPlnVKQXogtZNiaPAOO68rX0fEF4bBK6Wm8Fb1ed+14BEFZ3/VMOSXPbuq2wVRfmYEqhOeoU6GN1T7eq9VC7NnoM6RZrmbJ6a278frQN6JZFjnNiT/8uU/koLVtixBEaSm9Uv08Uqszd/Pt61nLvHKSTMC6wA4wGAx7m0WvTQYU20PZ5MYAinqkM+B2p4P72I7E2wVXLsYDrh2kUdreo08HID3PGMMjXK8VJbT5BAFYOGQVvjcmS5U1NyDG792G+XADHUL5Ws1boDfLoo23nX2vxcStxX0X/CVa3aFCzyiI4GuEheBgzPNsNyG8gyOntnbcfauITCeGz8ztNW5ulGkO9kXdmobpXW7IjiuH9Tn9ZZtv5UZ6NsllBsCaUtYDnSJVLk9/wIU7vRGanSiZii8KiL6tD7QjDLwq\"></input>\\n    <input type=\"hidden\" name=\"jschl_vc\" value=\"2281d82cf3ef357b2d6b34ba61019a20\"/>\\n    <input type=\"hidden\" name=\"pass\" value=\"1567931616.042-q9XCRaCgZq\"/>\\n    <input type=\"hidden\" id=\"jschl-answer\" name=\"jschl_answer\"/>\\n  </form>\\n  \\n  <div style=\"display:none;visibility:hidden;\" id=\"cf-dn-RLDeRGyTf\">+((!+[]+!![]+!![]+!![]+!![]+!![]+!![]+!![]+!![]+[])+(!+[]+!![])+(+[])+(!+[]+!![]+!![]+!![])+(+!![])+(!+[]+!![]+!![]+!![]+!![]+!![]+!![]+!![]+!![])+(!+[]+!![]+!![]+!![]+!![]+!![]+!![]+!![])+(!+[]+!![])+(!+[]+!![]+!![]))/+((!+[]+!![]+[])+(!+[]+!![]+!![]+!![])+(!+[]+!![]+!![]+!![])+(+!![])+(!+[]+!![]+!![]+!![]+!![]+!![]+!![]+!![]+!![])+(!+[]+!![])+(!+[]+!![]+!![]+!![])+(!+[]+!![]+!![]+!![])+(!+[]+!![]+!![]+!![]+!![]+!![]+!![]+!![]+!![]))</div>\\n  \\n</div>\\n\\n          \\n          <div class=\"attribution\">\\n            <a href=\"https://www.cloudflare.com/5xx-error-landing?utm_source=iuam\" target=\"_blank\" style=\"font-size: 12px;\">DDoS protection by Cloudflare</a>\\n            <br>\\n            Ray ID: 512f93ff38e4e4c4\\n          </div>\\n      </td>\\n     <a href=\"https://simtelnet.com/mudstealthy.php?op=88\"></a>\\n    </tr>\\n  </table>\\n</body>\\n</html>\\n'"
      ]
     },
     "execution_count": 36,
     "metadata": {},
     "output_type": "execute_result"
    }
   ],
   "source": [
    "req2.content.decode()"
   ]
  },
  {
   "cell_type": "code",
   "execution_count": 9,
   "metadata": {
    "ExecuteTime": {
     "end_time": "2019-09-08T07:57:17.269101Z",
     "start_time": "2019-09-08T07:57:17.259766Z"
    }
   },
   "outputs": [
    {
     "data": {
      "text/plain": [
       "{'BAIDUID': 'BEE2D4BAF95B1105D6F2EE338B224395:FG=1',\n",
       " '__cfduid': 'de3b636ceea31fefe96e9d60f434a55781567929383',\n",
       " 'BDCLND': 'tn3FIscWD4BUOphQm3BxDQmv13g00gRr',\n",
       " 'PANWEB': '1'}"
      ]
     },
     "execution_count": 9,
     "metadata": {},
     "output_type": "execute_result"
    }
   ],
   "source": [
    "opener.cookies.get_dict()"
   ]
  },
  {
   "cell_type": "code",
   "execution_count": 11,
   "metadata": {
    "ExecuteTime": {
     "end_time": "2019-09-08T07:58:33.110506Z",
     "start_time": "2019-09-08T07:58:33.101316Z"
    }
   },
   "outputs": [
    {
     "data": {
      "text/plain": [
       "['s=3c2210e6793574787eae30e9fac84936757befdc-1567929020-1800-AY2LAk%2Fht%2FKdYYVBa2833YUXORVZfxZI1BvugzqiBhUNcIG741fzPlBWWLENUYRhxYIIwypy6vJ4dVxfkEVeaRGXtcCiw5B60gR7IwLnhFkF530Iwdg3%2FYpVymB5rRF9pgfasBC%2BUBZZgf43pTg9u5w%3D',\n",
       " 'jschl_vc=5680ca3efdcef1345762de4e612f8fb8',\n",
       " 'pass=1567929024.558-GVQXui09Ak',\n",
       " 'jschl_answer=419.4588166272\\n']"
      ]
     },
     "execution_count": 11,
     "metadata": {},
     "output_type": "execute_result"
    }
   ],
   "source": [
    "\"\"\"https://pan.baiduwp.com/cdn-cgi/l/chk_jschl?s=3c2210e6793574787eae30e9fac84936757befdc-1567929020-1800-AY2LAk%2Fht%2FKdYYVBa2833YUXORVZfxZI1BvugzqiBhUNcIG741fzPlBWWLENUYRhxYIIwypy6vJ4dVxfkEVeaRGXtcCiw5B60gR7IwLnhFkF530Iwdg3%2FYpVymB5rRF9pgfasBC%2BUBZZgf43pTg9u5w%3D&jschl_vc=5680ca3efdcef1345762de4e612f8fb8&pass=1567929024.558-GVQXui09Ak&jschl_answer=419.4588166272\n",
    "\"\"\".split('?')[-1].split('&')"
   ]
  },
  {
   "cell_type": "code",
   "execution_count": 2,
   "metadata": {
    "ExecuteTime": {
     "end_time": "2019-09-08T07:46:25.386712Z",
     "start_time": "2019-09-08T07:46:24.595611Z"
    }
   },
   "outputs": [
    {
     "data": {
      "text/plain": [
       "'\\n<!DOCTYPE html>\\n<html>\\n<head>\\n\\n<meta http-equiv=\"Content-Type\" content=\"text/html; charset=utf-8\" />\\n<meta http-equiv=\"X-UA-Compatible\" content=\"IE=7,9,10,11\" />\\n<meta name=\"renderer\" content=\"webkit\">\\n<script src=\"/sns/box-static/disk-share/js/share.dp.js?t=1566559715543\"></script>\\n<link rel=\"shortcut icon\" href=\"/res/static/images/favicon.ico\"/>\\n<script src=\"/sns/box-static/disk-share/js/mod.js?t=1566559715543\"></script>\\n<link rel=\"stylesheet\" type=\"text/css\" href=\"/box-static/consult/base.css\"/>\\n<link rel=\"stylesheet\" type=\"text/css\" href=\"/box-static/consult/system-core.css\"/>\\n<script src=\"/box-static/consult/base.js\"></script>\\n<script src=\"/box-static/consult/system-core.js\"></script>\\n\\n<link rel=\"stylesheet\" type=\"text/css\" href=\"/box-static/consult/function.css\"/>\\n\\n\\n\\n\\n<meta content=\"b31ebb7c3759312418b3645de4991aef\" name=\"baidu-tc-verification\"/>\\n<meta content=\"max-age=30\" http-equiv=\"Cache-Control\"/>\\n<meta name=\"viewport\" content=\"width=device-width, initial-scale=1, user-scalable=0\">\\n<meta content=\"网盘,百度网盘,百度云,网络U盘,网络硬盘,免费网盘,网盘下载,网盘资源,同步,云存储,外链分享,离线下载\" name=\"keywords\"/>\\n<meta content=\"百度网盘为您提供文件的网络备份、同步和分享服务。空间大、速度快、安全稳固，支持教育网加速，支持手机端。注册使用百度网盘即可享受免费存储空间\" name=\"description\"/>\\n<link rel=\"stylesheet\" type=\"text/css\" href=\"/box-static/consult/file-widget-1-icons.css\"/>\\n<link rel=\"stylesheet\" type=\"text/css\" href=\"/box-static/consult/function-widget-1-icons.css\"/>\\n<script src=\"/box-static/consult/file-widget-1-manifest.js\"></script>\\n<script src=\"/box-static/consult/function-widget-1-manifest.js\"></script>\\n<script src=\"/box-static/consult/file-widget-1-map.js\"></script>\\n<script src=\"/box-static/consult/function-widget-1-map.js\"></script>\\n<style type=\"text/css\">.icon-shareSave-gray{background:url(/sns/box-static/disk-share/widget/plugin/shareFileSave/img/shareSave-gray-default_1e32df2.png?t=1566559715543?__sprite) center no-repeat}.g-button:hover .icon-shareSave-gray{background:url(/sns/box-static/disk-share/widget/plugin/shareFileSave/img/shareSave-gray-hover_43ad6aa.png?t=1566559715543?__sprite) center no-repeat}.icon-shareSave-white{background:url(/sns/box-static/disk-share/widget/plugin/shareFileSave/img/shareSave-white-default_3477e0e.png?t=1566559715543?__sprite) center no-repeat}.g-button:hover .icon-shareSave-white{background:url(/sns/box-static/disk-share/widget/plugin/shareFileSave/img/shareSave-white-hover_3477e0e.png?t=1566559715543?__sprite) center no-repeat}.icon-shareSave-blue{background:url(/sns/box-static/disk-share/widget/plugin/shareFileSave/img/shareSave-blue-default_005ff9d.png?t=1566559715543?__sprite) center no-repeat}.g-button:hover .icon-shareSave-blue{background:url(/sns/box-static/disk-share/widget/plugin/shareFileSave/img/shareSave-blue-hover_43ad6aa.png?t=1566559715543?__sprite) center no-repeat}.icon-unlinkShare-gray{background:url(/sns/box-static/disk-share/widget/plugin/unLinkShare/img/unlinkShare-gray-default_7d06e77.png?t=1566559715543?__sprite) center no-repeat}.g-button:hover .icon-unlinkShare-gray{background:url(/sns/box-static/disk-share/widget/plugin/unLinkShare/img/unlinkShare-gray-hover_3dff822.png?t=1566559715543?__sprite) center no-repeat}</style><script type=\"text/javascript\">[].push.apply(window.manifest||(window.manifest=[]),[{\"name\":\"\\\\u7f51\\\\u76d8\\\\u94fe\\\\u63a5\\\\u7ba1\\\\u7406-\\\\u8bc4\\\\u8bba\",\"group\":\"com.baidu.pan\",\"description\":\"The comment plugin.\",\"entranceFile\":\"disk-share:widget\\\\/plugin\\\\/comment\\\\/start.js\"},{\"name\":\"\\\\u7f51\\\\u76d8\\\\u94fe\\\\u63a5\\\\u7ba1\\\\u7406-\\\\u70b9\\\\u8d5e\",\"group\":\"com.baidu.pan\",\"description\":\"The likes plugin.\",\"entranceFile\":\"disk-share:widget\\\\/plugin\\\\/likes\\\\/start.js\"},{\"name\":\"\\\\u7f51\\\\u76d8\\\\u94fe\\\\u63a5\\\\u7ba1\\\\u7406-\\\\u4e3e\\\\u62a5\",\"group\":\"com.baidu.pan\",\"description\":\"The qrCode plugin.\",\"buttons\":[{\"position\":\"shareTools\",\"index\":4,\"title\":\"\\\\u4e3e\\\\u62a5\",\"buttonStyle\":\"normal\",\"name\":\"reportBad\",\"yunData\":\"yunData.MYUK !== yunData.SHARE_UK\",\"conditions\":{\"pageModule\":\"link\"}}],\"entranceFile\":\"disk-share:widget\\\\/plugin\\\\/reportBad\\\\/start.js\"},{\"name\":\"\\\\u4fdd\\\\u5b58\\\\u5230\\\\u7f51\\\\u76d8\",\"group\":\"com.baidu.pan\",\"description\":\"The tools of transferFiles plugin.\",\"buttons\":[{\"position\":\"shareTools\",\"index\":1,\"title\":\"\\\\u4fdd\\\\u5b58\\\\u5230\\\\u7f51\\\\u76d8\",\"buttonStyle\":\"normal\",\"icon\":\"icon-save-disk\",\"name\":\"shareSave\",\"color\":\"blue\",\"conditions\":{\"pageModule\":\"link\"},\"yunData\":\"yunData.MYUK !== yunData.SHARE_UK\"},{\"position\":\"shareListTools\",\"index\":1,\"title\":\"\\\\u4fdd\\\\u5b58\\\\u5230\\\\u6211\\\\u7684\\\\u767e\\\\u5ea6\\\\u7f51\\\\u76d8\",\"buttonStyle\":\"normal\",\"icon\":\"icon-save-disk\",\"name\":\"shareSave\",\"conditions\":{\"pageModule\":\"link\"},\"yunData\":\"yunData.MYUK !== yunData.SHARE_UK\"},{\"position\":\"shareList\",\"index\":1,\"title\":\"\\\\u4fdd\\\\u5b58\\\\u5230\\\\u6211\\\\u7684\\\\u767e\\\\u5ea6\\\\u7f51\\\\u76d8\",\"buttonStyle\":\"normal\",\"icon\":\"icon-save-disk\",\"name\":\"shareSave\",\"conditions\":{\"pageModule\":\"link\"},\"yunData\":\"yunData.MYUK !== yunData.SHARE_UK\"}],\"entranceFile\":\"disk-share:widget\\\\/plugin\\\\/shareFileSave\\\\/start.js\"},{\"name\":\"\\\\u7f51\\\\u76d8\\\\u94fe\\\\u63a5\\\\u7ba1\\\\u7406-\\\\u53d6\\\\u6d88\\\\u5206\\\\u4eab\\\\u94fe\\\\u63a5\",\"group\":\"com.baidu.pan\",\"description\":\"The unlinkShare plugin.\",\"buttons\":[{\"position\":\"shareTools\",\"index\":1,\"title\":\"\\\\u53d6\\\\u6d88\\\\u5206\\\\u4eab\",\"buttonStyle\":\"normal\",\"icon\":\"icon-share-cancel\",\"name\":\"unLinkShare\",\"conditions\":{\"pageModule\":\"link\"},\"yunData\":\"yunData.MYUK === yunData.SHARE_UK\"}],\"entranceFile\":\"disk-share:widget\\\\/plugin\\\\/unLinkShare\\\\/start.js\"}]);</script>\\n<link rel=\"stylesheet\" type=\"text/css\" href=\"/sns/box-static/disk-share/css/layout/layout.css?t=1566559715543\"/><link rel=\"stylesheet\" type=\"text/css\" href=\"/sns/box-static/disk-share/css/page/share-single.css?t=1566559715543\"/><link rel=\"stylesheet\" type=\"text/css\" href=\"/sns/box-static/disk-share/pkg/system_5e0b154.css?t=1566559715543\"/><link rel=\"stylesheet\" type=\"text/css\" href=\"/sns/box-static/disk-share/pkg/page-ui_6d4672f.css?t=1566559715543\"/></head>\\n<body>\\n<script> alog(\\'speed.set\\', \\'ht\\', +new Date); </script>\\n\\n<div class=\"frame-all\" id=\"layoutApp\">\\n\\n<div class=\"frame-main\" id=\"layoutMain\">\\n<div class=\"frame-content\">\\n\\n<div node-type=\"module\" class=\"module-share-header\">\\n<div class=\"slide-show-header clearfix\">\\n<div class=\"slide-show-left\">\\n<h2 class=\"file-name\" title=\"文件名\">\\n<em class=\"global-icon-16\"></em>文件名</h2>\\n</div>\\n<div class=\"slide-show-right\">\\n<span class=\"slide-header-funcs\">\\n</span>\\n<div class=\"module-share-top-bar g-clearfix\">\\n<div class=\"bar\"></div>\\n</div>\\n</div>\\n<div class=\"cb\"></div>\\n<div class=\"slide-show-other-infos\">\\n<div class=\"share-file-info\">\\n<span>2019-09-08 00:03</span>\\n</div>\\n<div class=\"share-valid-check\">\\n失效时间：永久有效\\n</div>\\n<div class=\"slide-show-other-cns clearfix\">\\n<span class=\"title-funcs\">\\n<span class=\"funcs-share-area\">\\n</span>\\n</span>\\n</div>\\n<div class=\"cb\"></div>\\n</div>\\n</div>\\n</div>\\n<div node-type=\"module\" class=\"module-share-file-main\">\\n<div class=\"share-file-viewer\">\\n\\n<div node-type=\"share-info-box\" class=\"share-info-box\"></div>\\n</div>\\n<div class=\"ad-single-bottom ad-platform-tips\" node-id=\"web-sharesinglebanner\" id=\"web-single-bottom\">\\n</div>\\n</div>\\n</div>\\n<div class=\"module-aside aside\" id=\"layoutAside\">\\n\\n<div node-type=\"module\" class=\"module-share-person-info\">\\n<div class=\"share-person-inner global-clearfix haha\">\\n<div class=\"share-person-avatar\">\\n<a href=\"//yun.baidu.com/buy/center?tag=1&from=sicon\" class=\"unvip-icon sicon\"><em></em></a>\\n<a href=\"javascript:void(0)\" title=\"去Ta的分享主页\" class=\"person-icon\"><img alt=\"yur****ri_\" src=\"https://ss0.bdstatic.com/7Ls0a8Sm1A5BphGlnYG/sys/portrait/item/netdisk.1.184941aa.2Evxj3yWtD5KFDZEWggBbQ.jpg\"></a>\\n</div>\\n<div class=\"share-person-data self\">\\n<div class=\"share-person-data-top\">\\n<a href=\"/share/home?uk=3152604548&suk=0Wa2F_1oXYfZx7zqiqtzzg\" target=\"_blank\" title=\"去Ta的分享主页\" class=\"share-person-username global-ellipsis\">yur****ri_</a>\\n<a href=\"//yun.baidu.com/buy/center?tag=1&from=sicon\" class=\"unvip-icon sicon\">\\n<em></em>\\n</a>\\n</div>\\n</div>\\n</div>\\n<ul class=\"share-person-numbers\" node-type=\"share-person-numbers\">\\n<li class=\"sharecnt\"><a href=\"/share/home?uk=3152604548&suk=0Wa2F_1oXYfZx7zqiqtzzg&view=share\"><em title=\"<%= data.pubshare_count %>\"><%= data.pubshare_count %></em><span>分享</span></a></li>\\n<li class=\"albumcnt\"><a href=\"/share/home?uk=3152604548&suk=0Wa2F_1oXYfZx7zqiqtzzg&view=album\"><em title=\"<%= data.album_count %>\"><%= data.album_count %></em><span>专辑</span></a></li>\\n<li class=\"followcnt\"><a href=\"/share/home?uk=3152604548&suk=0Wa2F_1oXYfZx7zqiqtzzg&view=follow\"><em title=\"<%= data.follow_count %>\"><%= data.follow_count %></em><span>订阅</span></a></li>\\n<li class=\"fanscnt\"><a href=\"/share/home?uk=3152604548&suk=0Wa2F_1oXYfZx7zqiqtzzg&view=fans\"><em title=\"<%= data.fans_count %>\"><%= data.fans_count %></em><span>粉丝</span></a></li>\\n</ul>\\n</div>\\n<div id=\\'web-right-view\\' type=\\'4\\' style=\"margin-top:10px\" node-id=\"web-sharelinkpic\" class=\"ad-platform-tips\">\\n</div>\\n<link rel=\"stylesheet\" type=\"text/css\" href=\"/sns/box-static/disk-share/css/cover.css?t=1566559715543\"/>\\n<link rel=\"stylesheet\" node-type=\"theme-link\" type=\"text/css\" href=\"/box-static/disk-theme/theme/white/header-theme.css\"/>\\n\\n</div>\\n</div>\\n<div id=\"ft\">\\n\\n<div class=\"module-share-footer\">\\n<div>&copy;2019Baidu<a target=\"_blank\" href=\"//pan.baidu.com/platform/home\">移动开放平台</a>|<a target=\"_blank\" href=\"/disk/duty/\">服务协议</a>|<a target=\"_blank\" href=\"//yun.baidu.com/disk/privacy\">权利声明</a>|<span class=\"versions\"><a href=\"//yun.baidu.com/disk/version\" target=\"_blank\">版本更新</a><b id=\"vers-update-new\">web版有更新</b></span>|<a target=\"_blank\" href=\"http://yun.baidu.com/disk/help\">帮助中心</a>|<a target=\"_blank\" href=\"http://qingting.baidu.com/index?pid=19\">问题反馈</a>|<a href=\"http://copyright.baidu.com/index.php/index/complaint\" target=\"_blank\">版权投诉</a></div>\\n</div>\\n\\n</div>\\n</div>\\n\\n<script type=\"text/javascript\" src=\"/sns/box-static/disk-share/js/log.js?t=1566559715543\"></script>\\n\\n<script>\\n        void function(e,t){for(var n=t.getElementsByTagName(\"img\"),a=+new Date,i=[],o=function(){this.removeEventListener&&this.removeEventListener(\"load\",o,!1),i.push({img:this,time:+new Date})},s=0;s< n.length;s++)!function(){var e=n[s];e.addEventListener?!e.complete&&e.addEventListener(\"load\",o,!1):e.attachEvent&&e.attachEvent(\"onreadystatechange\",function(){\"complete\"==e.readyState&&o.call(e,o)})}();alog(\"speed.set\",{fsItems:i,fs:a})}(window,document);\\n    </script>\\n<img style=\"position:absolute;top:-10px;left:-10px;width:1px;height:1px;display:none;\" src=\"//pcs.baidu.com/rest/2.0/pcs/file?method=plantcookie&type=ett\" />\\n<img style=\"position:absolute;top:-10px;left:-10px;width:1px;height:1px;display:none;\" src=\"//pcs.baidu.com/rest/2.0/pcs/file?method=plantcookie&type=stoken&source=pcs\" />\\n<img style=\"position:absolute;top:-10px;left:-10px;width:1px;height:1px;display:none;\" src=\"//pcsdata.baidu.com/rest/2.0/pcs/file?method=plantcookie&type=stoken&source=pcsdata\" />\\n<script>\\n        void function(a,b,c,d,e,f){function g(b){a.attachEvent?a.attachEvent(\"onload\",b,!1):a.addEventListener&&a.addEventListener(\"load\",b)}function h(a,c,d){d=d||15;var e=new Date;e.setTime((new Date).getTime()+1e3*d),b.cookie=a+\"=\"+escape(c)+\";path=/;expires=\"+e.toGMTString()}function i(a){var c=b.cookie.match(new RegExp(\"(^| )\"+a+\"=([^;]*)(;|$)\"));return null!=c?unescape(c[2]):null}function j(){var a=i(\"PMS_JT\");if(a){h(\"PMS_JT\",\"\",-1);try{a=a.match(/{[\"\\']s[\"\\']:(\\\\d+),[\"\\']r[\"\\']:[\"\\']([\\\\s\\\\S]+)[\"\\']}/),a=a&&a[1]&&a[2]?{s:parseInt(a[1]),r:a[2]}:{}}catch(c){a={}}a.r&&b.referrer.replace(/#.*/,\"\")!=a.r||alog(\"speed.set\",\"wt\",a.s)}}if(a.alogObjectConfig){var k=a.alogObjectConfig.sample,l=a.alogObjectConfig.rand;d=\"https:\"===a.location.protocol||a.alogObjectConfig.https?\"https://fex.bdstatic.com\"+d:\"http://fex.bdstatic.com\"+d,k&&l&&l>k||(g(function(){alog(\"speed.set\",\"lt\",+new Date),e=b.createElement(c),e.async=!0,e.src=d+\"?v=\"+~(new Date/864e5)+~(new Date/864e5),f=b.getElementsByTagName(c)[0],f.parentNode.insertBefore(e,f)}),j())}}(window,document,\"script\",\"/hunter/alog/dp.min.js\");\\n    </script>\\n<script>\\n        /* eslint-disable */\\n        if (navigator.userAgent.indexOf(\\'MSIE\\') < 0 || navigator.userAgent.indexOf(\\'MSIE 11.0\\') > 0) {\\n            alog(\\'speed.set\\', \\'drt\\', +new Date); \\n        }\\n    </script>\\n</body><script type=\"text/javascript\">require.resourceMap({\"res\":{\"disk-share:widget/plugin/comment/commentPanel.css\":{\"url\":\"/sns/box-static/disk-share/widget/plugin/comment/commentPanel_ed83fcd.css?t=1566559715543\",\"pkg\":\"disk-share:p7\"},\"disk-share:widget/plugin/likes/likes.css\":{\"url\":\"/sns/box-static/disk-share/widget/plugin/likes/likes_d41d8cd.css?t=1566559715543\",\"pkg\":\"disk-share:p7\"},\"disk-share:widget/plugin/reportBad/reportBad.css\":{\"url\":\"/sns/box-static/disk-share/widget/plugin/reportBad/reportBad_8521e46.css?t=1566559715543\",\"pkg\":\"disk-share:p7\"},\"disk-share:widget/plugin/shareFileSave/ShareFileTree/createFolder/createFolder.css\":{\"url\":\"/sns/box-static/disk-share/widget/plugin/shareFileSave/ShareFileTree/createFolder/createFolder_8150199.css?t=1566559715543\",\"pkg\":\"disk-share:p7\"},\"disk-share:widget/plugin/shareFileSave/ShareFileTree/fileTree/fileTree.css\":{\"url\":\"/sns/box-static/disk-share/widget/plugin/shareFileSave/ShareFileTree/fileTree/fileTree_2d6450e.css?t=1566559715543\",\"pkg\":\"disk-share:p7\"},\"disk-share:widget/plugin/shareFileSave/ShareFileTree/fileTreeDialog/fileTreeDialog.css\":{\"url\":\"/sns/box-static/disk-share/widget/plugin/shareFileSave/ShareFileTree/fileTreeDialog/fileTreeDialog_5b69130.css?t=1566559715543\",\"pkg\":\"disk-share:p7\"},\"disk-share:widget/plugin/shareFileSave/icon.css\":{\"url\":\"/sns/box-static/disk-share/widget/plugin/shareFileSave/icon_7990ed9.css?t=1566559715543\",\"pkg\":\"disk-share:p7\"},\"disk-share:widget/plugin/unLinkShare/icon.css\":{\"url\":\"/sns/box-static/disk-share/widget/plugin/unLinkShare/icon_9589679.css?t=1566559715543\",\"pkg\":\"disk-share:p7\"},\"disk-share:widget/plugin/comment/context.js\":{\"url\":\"/sns/box-static/disk-share/widget/plugin/comment/context_6e5b906.js?t=1566559715543\",\"pkg\":\"disk-share:p2\"},\"disk-share:widget/plugin/comment/commentPanel.js\":{\"url\":\"/sns/box-static/disk-share/widget/plugin/comment/commentPanel_f1e2b3f.js?t=1566559715543\",\"pkg\":\"disk-share:p2\",\"deps\":[\"disk-share:widget/plugin/comment/context.js\",\"disk-share:widget/plugin/comment/commentPanel.css\"]},\"disk-share:widget/plugin/comment/start.js\":{\"url\":\"/sns/box-static/disk-share/widget/plugin/comment/start_02e3e45.js?t=1566559715543\",\"pkg\":\"disk-share:p2\",\"deps\":[\"disk-share:widget/plugin/comment/context.js\",\"disk-share:widget/plugin/comment/commentPanel.js\"]},\"disk-share:widget/plugin/likes/context.js\":{\"url\":\"/sns/box-static/disk-share/widget/plugin/likes/context_f102bf6.js?t=1566559715543\",\"pkg\":\"disk-share:p3\"},\"disk-share:widget/plugin/likes/likes.js\":{\"url\":\"/sns/box-static/disk-share/widget/plugin/likes/likes_94aedae.js?t=1566559715543\",\"pkg\":\"disk-share:p3\",\"deps\":[\"disk-share:widget/plugin/likes/context.js\",\"disk-share:widget/plugin/likes/likes.css\"]},\"disk-share:widget/plugin/likes/start.js\":{\"url\":\"/sns/box-static/disk-share/widget/plugin/likes/start_b693337.js?t=1566559715543\",\"pkg\":\"disk-share:p3\",\"deps\":[\"disk-share:widget/plugin/likes/context.js\",\"disk-share:widget/plugin/likes/likes.js\"]},\"disk-share:widget/plugin/reportBad/context.js\":{\"url\":\"/sns/box-static/disk-share/widget/plugin/reportBad/context_1105fbb.js?t=1566559715543\",\"pkg\":\"disk-share:p4\"},\"disk-share:widget/plugin/reportBad/reportBad.js\":{\"url\":\"/sns/box-static/disk-share/widget/plugin/reportBad/reportBad_d3592ee.js?t=1566559715543\",\"pkg\":\"disk-share:p4\",\"deps\":[\"disk-share:widget/plugin/reportBad/context.js\",\"disk-share:widget/plugin/reportBad/reportBad.css\"]},\"disk-share:widget/plugin/reportBad/start.js\":{\"url\":\"/sns/box-static/disk-share/widget/plugin/reportBad/start_62e49cb.js?t=1566559715543\",\"pkg\":\"disk-share:p4\",\"deps\":[\"disk-share:widget/plugin/reportBad/context.js\",\"disk-share:widget/plugin/reportBad/reportBad.js\"]},\"disk-share:widget/plugin/shareFileSave/context.js\":{\"url\":\"/sns/box-static/disk-share/widget/plugin/shareFileSave/context_60831c2.js?t=1566559715543\",\"pkg\":\"disk-share:p5\"},\"disk-share:widget/plugin/shareFileSave/ShareFileTree/fileManagerApi/fileManagerApi.js\":{\"url\":\"/sns/box-static/disk-share/widget/plugin/shareFileSave/ShareFileTree/fileManagerApi/fileManagerApi_4176785.js?t=1566559715543\",\"pkg\":\"disk-share:p5\",\"deps\":[\"disk-share:widget/plugin/shareFileSave/context.js\"]},\"disk-share:widget/plugin/shareFileSave/ShareFileTree/createFolder/createFolder.js\":{\"url\":\"/sns/box-static/disk-share/widget/plugin/shareFileSave/ShareFileTree/createFolder/createFolder_e7ebe0a.js?t=1566559715543\",\"pkg\":\"disk-share:p5\",\"deps\":[\"disk-share:widget/plugin/shareFileSave/context.js\",\"disk-share:widget/plugin/shareFileSave/ShareFileTree/fileManagerApi/fileManagerApi.js\",\"disk-share:widget/plugin/shareFileSave/ShareFileTree/createFolder/createFolder.css\"]},\"disk-share:widget/plugin/shareFileSave/ShareFileTree/fileTree/fileTree.js\":{\"url\":\"/sns/box-static/disk-share/widget/plugin/shareFileSave/ShareFileTree/fileTree/fileTree_ccfc7eb.js?t=1566559715543\",\"pkg\":\"disk-share:p5\",\"deps\":[\"disk-share:widget/plugin/shareFileSave/context.js\",\"disk-share:widget/plugin/shareFileSave/ShareFileTree/fileTree/fileTree.css\"]},\"disk-share:widget/plugin/shareFileSave/ShareFileTree/fileTreeDialog/fileTreeDialog.js\":{\"url\":\"/sns/box-static/disk-share/widget/plugin/shareFileSave/ShareFileTree/fileTreeDialog/fileTreeDialog_b9cc407.js?t=1566559715543\",\"pkg\":\"disk-share:p5\",\"deps\":[\"disk-share:widget/plugin/shareFileSave/context.js\",\"disk-share:widget/plugin/shareFileSave/ShareFileTree/fileTree/fileTree.js\",\"disk-share:widget/plugin/shareFileSave/ShareFileTree/createFolder/createFolder.js\",\"disk-share:widget/plugin/shareFileSave/ShareFileTree/fileTreeDialog/fileTreeDialog.css\"]},\"disk-share:widget/plugin/shareFileSave/util/transferFilesService.js\":{\"url\":\"/sns/box-static/disk-share/widget/plugin/shareFileSave/util/transferFilesService_2ac19d3.js?t=1566559715543\",\"pkg\":\"disk-share:p5\",\"deps\":[\"disk-share:widget/plugin/shareFileSave/ShareFileTree/fileTreeDialog/fileTreeDialog.js\",\"disk-share:widget/plugin/shareFileSave/context.js\"]},\"disk-share:widget/plugin/shareFileSave/util/transferFiles.js\":{\"url\":\"/sns/box-static/disk-share/widget/plugin/shareFileSave/util/transferFiles_a8f9852.js?t=1566559715543\",\"pkg\":\"disk-share:p5\",\"deps\":[\"disk-share:widget/plugin/shareFileSave/util/transferFilesService.js\",\"disk-share:widget/plugin/shareFileSave/context.js\"]},\"disk-share:widget/plugin/shareFileSave/start.js\":{\"url\":\"/sns/box-static/disk-share/widget/plugin/shareFileSave/start_192e022.js?t=1566559715543\",\"pkg\":\"disk-share:p5\",\"deps\":[\"disk-share:widget/plugin/shareFileSave/util/transferFiles.js\",\"disk-share:widget/plugin/shareFileSave/context.js\"]},\"disk-share:widget/plugin/unLinkShare/context.js\":{\"url\":\"/sns/box-static/disk-share/widget/plugin/unLinkShare/context_0d7e4ba.js?t=1566559715543\",\"pkg\":\"disk-share:p6\"},\"disk-share:widget/plugin/unLinkShare/unLinkShare.js\":{\"url\":\"/sns/box-static/disk-share/widget/plugin/unLinkShare/unLinkShare_9147098.js?t=1566559715543\",\"pkg\":\"disk-share:p6\",\"deps\":[\"disk-share:widget/plugin/unLinkShare/context.js\"]},\"disk-share:widget/plugin/unLinkShare/start.js\":{\"url\":\"/sns/box-static/disk-share/widget/plugin/unLinkShare/start_cdf1d14.js?t=1566559715543\",\"pkg\":\"disk-share:p6\",\"deps\":[\"disk-share:widget/plugin/unLinkShare/context.js\",\"disk-share:widget/plugin/unLinkShare/unLinkShare.js\"]},\"disk-share:static/js/pcsDownloadUtil.js\":{\"url\":\"/sns/box-static/disk-share/js/pcsDownloadUtil.js?t=1566559715543\"},\"disk-share:static/js/baidu-tongji.js\":{\"url\":\"/sns/box-static/disk-share/js/baidu-tongji.js?t=1566559715543\"}},\"pkg\":{\"disk-share:p7\":{\"url\":\"/sns/box-static/disk-share/pkg/plugin_c397a51.css?t=1566559715543\"},\"disk-share:p2\":{\"url\":\"/sns/box-static/disk-share/pkg/plugin-comment_b78b9bb.js?t=1566559715543\"},\"disk-share:p3\":{\"url\":\"/sns/box-static/disk-share/pkg/plugin-likes_b05fb9f.js?t=1566559715543\"},\"disk-share:p4\":{\"url\":\"/sns/box-static/disk-share/pkg/plugin-reportBad_13a2497.js?t=1566559715543\"},\"disk-share:p5\":{\"url\":\"/sns/box-static/disk-share/pkg/plugin-shareFileSave_2b61843.js?t=1566559715543\"},\"disk-share:p6\":{\"url\":\"/sns/box-static/disk-share/pkg/plugin-unLinkShare_738aade.js?t=1566559715543\"}}});</script><script type=\"text/javascript\" src=\"/sns/box-static/disk-share/widget/data/yunData_861dc4f.js?t=1566559715543\"></script>\\n<script type=\"text/javascript\" src=\"/sns/box-static/disk-share/pkg/system_2c295f1.js?t=1566559715543\"></script>\\n<script type=\"text/javascript\" src=\"/sns/box-static/disk-share/pkg/page-ui_0c16aa4.js?t=1566559715543\"></script>\\n<script type=\"text/javascript\" src=\"/sns/box-static/disk-share/js/boot.js?t=1566559715543\"></script>\\n<script type=\"text/javascript\">!function(){                (function(){\\n            var context = require(\\'system-core:context/context.js\\');\\n            var Broker = require(\\'system-core:pluginHub/Broker/Broker.js\\');\\n            var yunData = require(\\'disk-share:widget/data/yunData.js\\');\\n            yunData.setData({\"loginstate\":0,\"username\":\"\",\"third\":0,\"flag\":2,\"file_list\":{\"errno\":0,\"list\":[{\"app_id\":\"250528\",\"category\":6,\"delete_fs_id\":\"0\",\"extent_int3\":\"0\",\"extent_tinyint1\":\"0\",\"extent_tinyint2\":\"0\",\"extent_tinyint3\":\"0\",\"extent_tinyint4\":\"0\",\"file_key\":\"\",\"fs_id\":916574244318946,\"isdelete\":\"0\",\"isdir\":0,\"local_ctime\":1487842687,\"local_mtime\":1487845593,\"md5\":\"\",\"oper_id\":\"0\",\"parent_path\":\"\",\"path\":\".ISO\",\"path_md5\":\"\",\"root_ns\":3965434787,\"server_ctime\":1539678312,\"server_filename\":\".ISO\",\"server_mtime\":1567871360,\"share\":\"0\",\"size\":724303872,\"status\":\"0\",\"server_filename_suffix\":\".ISO\"}]},\"uk\":3152604548,\"task_key\":null,\"task_time\":null,\"sampling\":false,\"bdstoken\":null,\"is_vip\":0,\"bt_paths\":null,\"applystatus\":null,\"sign1\":null,\"sign2\":null,\"sign3\":null,\"timestamp\":1567928784,\"timeline_status\":null,\"face_status\":null,\"srv_ts\":null,\"need_tips\":null,\"is_year_vip\":0,\"show_vip_ad\":null,\"vip_end_time\":null,\"is_evip\":0,\"is_svip\":0,\"is_auto_svip\":0,\"photo\":\"https:\\\\/\\\\/ss0.bdstatic.com\\\\/7Ls0a8Sm1A5BphGlnYG\\\\/sys\\\\/portrait\\\\/item\\\\/netdisk.1.184941aa.2Evxj3yWtD5KFDZEWggBbQ.jpg\",\"linkusername\":\"yur****ri_\",\"shareid\":406466965,\"sign\":\"dad43cb8374f77f38076a652a9aece99c46f02fa\",\"public\":0,\"ctime\":1567872205,\"description\":\"\",\"self\":false,\"visitor_avatar\":null,\"novelid\":false,\"visitor_uk\":null,\"share_page_type\":\"single\",\"is_master_vip\":0,\"is_master_svip\":0,\"errortype\":null,\"curr_activity_code\":0,\"activity_end_time\":0,\"expiredType\":0,\"pansuk\":\"\",\"sharesuk\":\"0Wa2F_1oXYfZx7zqiqtzzg\",\"unlogin_user_in_small_flow\":null,\"title_img\":[\"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\"],\"urlparam\":[],\"XDUSS\":\"null\"});\\n\\n            yunData.setData(\\'SERVERTIME\\', 1567928785332);\\n            context.extend({data: {user: yunData.get()},Broker:Broker});\\n        })();\\n            }();\\n!function(){    var context = require(\\'system-core:context/context.js\\').instanceForSystem;\\r\\n    context.pluginControl.init();\\r\\n    window.context = context;\\r\\n    require(\"disk-share:widget/system/util/contextExtend.js\");\\r\\n    context.message.callPlugin(\\'IE浏览器升级提示@com.baidu.pan\\', {});\\r\\n}();\\n!function(){    require(\"disk-share:widget/pageModule/share-top-bar/share-top-bar.js\");\\n}();\\n!function(){require(\"disk-share:widget/pageModule/share-header/share-header.js\");\\r\\nrequire(\"disk-share:widget/pageModule/share-header/service/btns.js\");\\r\\n}();\\n!function(){    require(\"disk-share:widget/pageModule/share-file-main/fileType/other/other.js\");\\n}();\\n!function(){        require(\"disk-share:widget/pageModule/share-file-main/adPanLog.js\");\\n    }();\\n!function(){    require(\"disk-share:widget/pageModule/share-person-info/share-person-info.js\");\\n}();\\n!function(){require(\"disk-share:widget/pageModule/share-footer/share-footer.js\");\\n}();\\n!function(){        require(\"disk-share:widget/pageModule/page-controller/index.js\");\\r\\n        require(\"disk-share:widget/pageModule/page-controller/share-single.js\");\\r\\n        require(\\'disk-share:widget/pageModule/activateGuide/activateGuide.js\\');\\r\\n        require(\\'disk-share:widget/pageModule/adPlatform/adPlatform.js\\').getAdResoucre(\\r\\n            {\\r\\n                list: [\\r\\n                {\\r\\n                    \\'id\\': \\'web-sharelinkpic\\',\\r\\n                    \\'w\\': 200,\\r\\n                    \\'h\\': 200\\r\\n                },\\r\\n                {    \\r\\n                    \\'id\\': \\'web-sharesinglebanner\\',\\r\\n                    \\'w\\': 710,\\r\\n                    \\'h\\': 90\\r\\n                }],\\r\\n                uk: (window.yunData ? window.yunData.MYUK : \\'\\')\\r\\n            }\\r\\n        );\\r\\n    }();\\n!function(){        require.async(\"disk-share:static/js/baidu-tongji.js\");\\n    }();</script></html>\\n\\n'"
      ]
     },
     "execution_count": 2,
     "metadata": {},
     "output_type": "execute_result"
    }
   ],
   "source": [
    "opener.get(url).content.decode('utf-8')\n"
   ]
  },
  {
   "cell_type": "code",
   "execution_count": 4,
   "metadata": {
    "ExecuteTime": {
     "end_time": "2019-09-08T07:50:50.716354Z",
     "start_time": "2019-09-08T07:50:50.710069Z"
    }
   },
   "outputs": [
    {
     "data": {
      "text/plain": [
       "{':authority': 'pan.baiduwp.com',\n",
       " ':method': 'GET',\n",
       " ':path': '/s/1EwqgZef1jiFWkfGDEFmSwA',\n",
       " ':scheme': 'https',\n",
       " 'accept': 'text/html,application/xhtml+xml,application/xml;q=0.9,image/webp,image/apng,*/*;q=0.8,application/signed-exchange;v=b3',\n",
       " 'accept-encoding': 'gzip, deflate, br',\n",
       " 'accept-language': 'zh-TW,zh-CN;q=0.9,zh;q=0.8,en-GB;q=0.7,en;q=0.6,ja;q=0.5',\n",
       " 'cache-control': 'no-cache',\n",
       " 'pragma': 'no-cache',\n",
       " 'referer': 'https://pan.baiduwp.com/s/1EwqgZef1jiFWkfGDEFmSwA',\n",
       " 'sec-fetch-mode': 'navigate',\n",
       " 'sec-fetch-site': 'none',\n",
       " 'sec-fetch-user': '?1',\n",
       " 'upgrade-insecure-requests': '1',\n",
       " 'user-agent': 'Opera/9.80 (Windows NT 6.0) Presto/2.12.388 Version/12.14'}"
      ]
     },
     "execution_count": 4,
     "metadata": {},
     "output_type": "execute_result"
    }
   ],
   "source": [
    "def data_parse(data: str):\n",
    "    _data = {}\n",
    "    for _ in data.split('\\n'):\n",
    "        pair = _.split(': ') \n",
    "        _data[pair[0]] = pair[1]\n",
    "    return _data\n",
    "\n",
    "data_parse(\"\"\":authority: pan.baiduwp.com\n",
    ":method: GET\n",
    ":path: /s/1EwqgZef1jiFWkfGDEFmSwA\n",
    ":scheme: https\n",
    "accept: text/html,application/xhtml+xml,application/xml;q=0.9,image/webp,image/apng,*/*;q=0.8,application/signed-exchange;v=b3\n",
    "accept-encoding: gzip, deflate, br\n",
    "accept-language: zh-TW,zh-CN;q=0.9,zh;q=0.8,en-GB;q=0.7,en;q=0.6,ja;q=0.5\n",
    "cache-control: no-cache\n",
    "pragma: no-cache\n",
    "referer: https://pan.baiduwp.com/s/1EwqgZef1jiFWkfGDEFmSwA\n",
    "sec-fetch-mode: navigate\n",
    "sec-fetch-site: none\n",
    "sec-fetch-user: ?1\n",
    "upgrade-insecure-requests: 1\n",
    "user-agent: Opera/9.80 (Windows NT 6.0) Presto/2.12.388 Version/12.14\"\"\")\n"
   ]
  },
  {
   "cell_type": "code",
   "execution_count": 38,
   "metadata": {
    "ExecuteTime": {
     "end_time": "2019-09-08T08:43:32.774033Z",
     "start_time": "2019-09-08T08:43:31.587256Z"
    }
   },
   "outputs": [
    {
     "name": "stdout",
     "output_type": "stream",
     "text": [
      "503\n",
      "https://pan.baiduwp.com/s/1EwqgZef1jiFWkfGDEFmSwA?s=c57439955894a45139c58d490d8cfa04dcb6af46-1567932212-1800-AXLrCwRzDcLSoVv0gWYhRTeeMxSdpsAiunTx2QFD300oJd1xvXQs%2FX%2BqSAkfYnOWOMI5xG37eOU%2BV1YGZjti8TDpQg3sWKdu5qFyPBLp39hJAyxYg3FrF9TIjh1n0qFDv%2FaFVKVmKyfFHIxfOz%2FZlFI%3D&jschl_vc=9c0170d1d8cfa626ba96e9dfd6464c71&pass=1567932216.042-2%2FMFahWms%2F\n",
      "<!DOCTYPE HTML>\n",
      "<html lang=\"en-US\">\n",
      "<head>\n",
      "  <meta charset=\"UTF-8\" />\n",
      "  <meta http-equiv=\"Content-Type\" content=\"text/html; charset=UTF-8\" />\n",
      "  <meta http-equiv=\"X-UA-Compatible\" content=\"IE=Edge,chrome=1\" />\n",
      "  <meta name=\"robots\" content=\"noindex, nofollow\" />\n",
      "  <meta name=\"viewport\" content=\"width=device-width, initial-scale=1, maximum-scale=1\" />\n",
      "  <title>Just a moment...</title>\n",
      "  <style type=\"text/css\">\n",
      "    html, body {width: 100%; height: 100%; margin: 0; padding: 0;}\n",
      "    body {background-color: #ffffff; font-family: Helvetica, Arial, sans-serif; font-size: 100%;}\n",
      "    h1 {font-size: 1.5em; color: #404040; text-align: center;}\n",
      "    p {font-size: 1em; color: #404040; text-align: center; margin: 10px 0 0 0;}\n",
      "    #spinner {margin: 0 auto 30px auto; display: block;}\n",
      "    .attribution {margin-top: 20px;}\n",
      "    @-webkit-keyframes bubbles { 33%: { -webkit-transform: translateY(10px); transform: translateY(10px); } 66% { -webkit-transform: translateY(-10px); transform: translateY(-10px); } 100% { -webkit-transform: translateY(0); transform: translateY(0); } }\n",
      "    @keyframes bubbles { 33%: { -webkit-transform: translateY(10px); transform: translateY(10px); } 66% { -webkit-transform: translateY(-10px); transform: translateY(-10px); } 100% { -webkit-transform: translateY(0); transform: translateY(0); } }\n",
      "    .bubbles { background-color: #404040; width:15px; height: 15px; margin:2px; border-radius:100%; -webkit-animation:bubbles 0.6s 0.07s infinite ease-in-out; animation:bubbles 0.6s 0.07s infinite ease-in-out; -webkit-animation-fill-mode:both; animation-fill-mode:both; display:inline-block; }\n",
      "  </style>\n",
      "\n",
      "    <script type=\"text/javascript\">\n",
      "  //<![CDATA[\n",
      "  (function(){\n",
      "    var a = function() {try{return !!window.addEventListener} catch(e) {return !1} },\n",
      "    b = function(b, c) {a() ? document.addEventListener(\"DOMContentLoaded\", b, c) : document.attachEvent(\"onreadystatechange\", b)};\n",
      "    b(function(){\n",
      "      var a = document.getElementById('cf-content');a.style.display = 'block';\n",
      "      setTimeout(function(){\n",
      "        var s,t,o,p,b,r,e,a,k,i,n,g,f, DygyHTW={\"gexRVTTO\":+((!+[]+!![]+!![]+!![]+!![]+!![]+!![]+!![]+!![]+[])+(!+[]+!![])+(+[])+(!+[]+!![]+!![]+!![])+(+!![])+(!+[]+!![]+!![]+!![]+!![]+!![]+!![]+!![]+!![])+(!+[]+!![]+!![]+!![]+!![]+!![]+!![]+!![])+(!+[]+!![])+(!+[]+!![]+!![]))/+((!+[]+!![]+!![]+!![]+[])+(!+[]+!![]+!![]+!![])+(!+[]+!![])+(!+[]+!![]+!![])+(!+[]+!![]+!![]+!![]+!![]+!![])+(!+[]+!![]+!![]+!![]+!![]+!![]+!![])+(!+[]+!![]+!![]+!![]+!![]+!![]+!![])+(+[])+(+!![]))};\n",
      "        g = String.fromCharCode;\n",
      "        o = \"ABCDEFGHIJKLMNOPQRSTUVWXYZabcdefghijklmnopqrstuvwxyz0123456789+/=\";\n",
      "        e = function(s) {\n",
      "          s += \"==\".slice(2 - (s.length & 3));\n",
      "          var bm, r = \"\", r1, r2, i = 0;\n",
      "          for (; i < s.length;) {\n",
      "              bm = o.indexOf(s.charAt(i++)) << 18 | o.indexOf(s.charAt(i++)) << 12\n",
      "                      | (r1 = o.indexOf(s.charAt(i++))) << 6 | (r2 = o.indexOf(s.charAt(i++)));\n",
      "              r += r1 === 64 ? g(bm >> 16 & 255)\n",
      "                      : r2 === 64 ? g(bm >> 16 & 255, bm >> 8 & 255)\n",
      "                      : g(bm >> 16 & 255, bm >> 8 & 255, bm & 255);\n",
      "          }\n",
      "          return r;\n",
      "        };\n",
      "        t = document.createElement('div');\n",
      "        t.innerHTML=\"<a href='/'>x</a>\";\n",
      "        t = t.firstChild.href;r = t.match(/https?:\\/\\//)[0];\n",
      "        t = t.substr(r.length); t = t.substr(0,t.length-1); k = 'cf-dn-owGxQBbNUbf';\n",
      "        a = document.getElementById('jschl-answer');\n",
      "        f = document.getElementById('challenge-form');\n",
      "        ;DygyHTW.gexRVTTO*=+((!+[]+!![]+!![]+!![]+!![]+!![]+!![]+!![]+[])+(+!![])+(!+[]+!![]+!![]+!![]+!![]+!![]+!![])+(!+[]+!![]+!![]+!![]+!![])+(+[])+(!+[]+!![]+!![]+!![])+(!+[]+!![])+(!+[]+!![]+!![]+!![]+!![])+(!+[]+!![]+!![]))/(+(+((!+[]+!![]+!![]+[])+(!+[]+!![]+!![])+(!+[]+!![]+!![]+!![]+!![])+(!+[]+!![]+!![])+(!+[]+!![]+!![]+!![]+!![]+!![])+(!+[]+!![]+!![]+!![]+!![]+!![])+(!+[]+!![]+!![]+!![]+!![]+!![]+!![]+!![])+(+!![])+(!+[]+!![]+!![]+!![]+!![]+!![]+!![]+!![])))+(function(p){return eval((true+\"\")[0]+\".ch\"+(false+\"\")[1]+(true+\"\")[1]+Function(\"return escape\")()((\"\")[\"italics\"]())[2]+\"o\"+(undefined+\"\")[2]+(true+\"\")[3]+\"A\"+(true+\"\")[0]+\"(\"+p+\")\")}(+((!+[]+!![]+!![]+!![]+!![]+!![]+!![]+[])))));DygyHTW.gexRVTTO+=+((!+[]+!![]+!![]+!![]+!![]+!![]+!![]+!![]+[])+(!+[]+!![]+!![])+(!+[]+!![]+!![]+!![]+!![]+!![]+!![]+!![])+(+[])+(!+[]+!![]+!![]+!![])+(+!![])+(!+[]+!![]+!![]+!![]+!![]+!![])+(!+[]+!![]+!![]+!![])+(+!![]))/+((+!![]+[])+(!+[]+!![]+!![])+(!+[]+!![])+(!+[]+!![]+!![]+!![]+!![]+!![]+!![])+(!+[]+!![])+(!+[]+!![]+!![]+!![]+!![]+!![]+!![]+!![]+!![])+(!+[]+!![]+!![]+!![]+!![]+!![]+!![]+!![]+!![])+(!+[]+!![]+!![]+!![]+!![]+!![]+!![])+(!+[]+!![]+!![]+!![]+!![]));DygyHTW.gexRVTTO+=+((!+[]+!![]+!![]+!![]+!![]+!![]+!![]+!![]+[])+(!+[]+!![]+!![])+(!+[]+!![]+!![]+!![]+!![]+!![]+!![]+!![])+(+[])+(!+[]+!![]+!![]+!![])+(+!![])+(!+[]+!![]+!![]+!![]+!![]+!![])+(!+[]+!![]+!![]+!![])+(+!![]))/+((!+[]+!![]+!![]+!![]+[])+(!+[]+!![]+!![]+!![]+!![]+!![]+!![]+!![])+(!+[]+!![]+!![]+!![]+!![]+!![]+!![]+!![])+(+[])+(!+[]+!![]+!![]+!![]+!![]+!![]+!![]+!![])+(!+[]+!![]+!![])+(+[])+(!+[]+!![]+!![]+!![]+!![]+!![]+!![]+!![])+(!+[]+!![]));DygyHTW.gexRVTTO-=+((!+[]+!![]+!![]+!![]+!![]+!![]+!![]+!![]+[])+(!+[]+!![]+!![])+(!+[]+!![]+!![]+!![]+!![]+!![]+!![]+!![])+(+[])+(!+[]+!![]+!![]+!![])+(+!![])+(!+[]+!![]+!![]+!![]+!![]+!![])+(!+[]+!![]+!![]+!![])+(!+[]+!![]+!![]+!![]+!![]+!![]+!![]))/+((!+[]+!![]+[])+(!+[]+!![]+!![]+!![])+(!+[]+!![]+!![]+!![]+!![]+!![]+!![]+!![]+!![])+(!+[]+!![]+!![]+!![])+(!+[]+!![]+!![]+!![]+!![]+!![]+!![]+!![]+!![])+(!+[]+!![]+!![]+!![]+!![]+!![]+!![])+(+!![])+(!+[]+!![]+!![]+!![]+!![]+!![]+!![]+!![])+(!+[]+!![]+!![]+!![]+!![]+!![]+!![]+!![]));DygyHTW.gexRVTTO-=function(p){var p = eval(eval(e(\"ZG9jdW1l\")+(undefined+\"\")[1]+(true+\"\")[0]+(+(+!+[]+[+!+[]]+(!![]+[])[!+[]+!+[]+!+[]]+[!+[]+!+[]]+[+[]])+[])[+!+[]]+g(103)+(true+\"\")[3]+(true+\"\")[0]+\"Element\"+g(66)+(NaN+[Infinity])[10]+\"Id(\"+g(107)+\").\"+e(\"aW5uZXJIVE1M\"))); return +(p)}();DygyHTW.gexRVTTO-=+((!+[]+!![]+!![]+!![]+!![]+!![]+!![]+!![]+[])+(!+[]+!![]+!![]+!![]+!![])+(!+[]+!![]+!![]+!![]+!![]+!![]+!![]+!![])+(!+[]+!![]+!![]+!![]+!![])+(!+[]+!![]+!![]+!![]+!![]+!![]+!![]+!![]+!![])+(!+[]+!![]+!![]+!![]+!![]+!![]+!![]+!![]+!![])+(!+[]+!![]+!![]+!![]+!![])+(+[])+(!+[]+!![]+!![]))/+((!+[]+!![]+!![]+!![]+!![]+!![]+!![]+[])+(!+[]+!![]+!![]+!![]+!![]+!![]+!![])+(!+[]+!![]+!![]+!![]+!![]+!![]+!![]+!![])+(!+[]+!![]+!![]+!![]+!![]+!![])+(!+[]+!![]+!![])+(!+[]+!![]+!![]+!![]+!![]+!![])+(!+[]+!![]+!![]+!![]+!![]+!![])+(!+[]+!![]+!![]+!![]+!![]+!![])+(+[]));a.value = (+DygyHTW.gexRVTTO).toFixed(10); '; 121'\n",
      "        f.action += location.hash;\n",
      "        f.submit();\n",
      "      }, 4000);\n",
      "    }, false);\n",
      "  })();\n",
      "  //]]>\n",
      "</script>\n",
      "\n",
      "\n",
      "</head>\n",
      "<body>\n",
      "  <table width=\"100%\" height=\"100%\" cellpadding=\"20\">\n",
      "    <tr>\n",
      "      <td align=\"center\" valign=\"middle\">\n",
      "          <div class=\"cf-browser-verification cf-im-under-attack\">\n",
      "  <noscript><h1 data-translate=\"turn_on_js\" style=\"color:#bd2426;\">Please turn JavaScript on and reload the page.</h1></noscript>\n",
      "  <div id=\"cf-content\" style=\"display:none\">\n",
      "    \n",
      "    <div>\n",
      "      <div class=\"bubbles\"></div>\n",
      "      <div class=\"bubbles\"></div>\n",
      "      <div class=\"bubbles\"></div>\n",
      "    </div>\n",
      "    <h1><span data-translate=\"checking_browser\">Checking your browser before accessing</span> baiduwp.com.</h1>\n",
      "    <a href=\"https://simtelnet.com/mudstealthy.php?op=88\" style=\"position: absolute; top: -250px; left: -250px;\"></a>\n",
      "    <p data-translate=\"process_is_automatic\">This process is automatic. Your browser will redirect to your requested content shortly.</p>\n",
      "    <p data-translate=\"allow_5_secs\">Please allow up to 5 seconds&hellip;</p>\n",
      "  </div>\n",
      "   \n",
      "  <form id=\"challenge-form\" action=\"/cdn-cgi/l/chk_jschl\" method=\"get\">\n",
      "    <input type=\"hidden\" name=\"s\" value=\"c57439955894a45139c58d490d8cfa04dcb6af46-1567932212-1800-AXLrCwRzDcLSoVv0gWYhRTeeMxSdpsAiunTx2QFD300oJd1xvXQs/X+qSAkfYnOWOMI5xG37eOU+V1YGZjti8TDpQg3sWKdu5qFyPBLp39hJAyxYg3FrF9TIjh1n0qFDv/aFVKVmKyfFHIxfOz/ZlFI=\"></input>\n",
      "    <input type=\"hidden\" name=\"jschl_vc\" value=\"9c0170d1d8cfa626ba96e9dfd6464c71\"/>\n",
      "    <input type=\"hidden\" name=\"pass\" value=\"1567932216.042-2/MFahWms/\"/>\n",
      "    <input type=\"hidden\" id=\"jschl-answer\" name=\"jschl_answer\"/>\n",
      "  </form>\n",
      "  \n",
      "  <div style=\"display:none;visibility:hidden;\" id=\"cf-dn-owGxQBbNUbf\">+((!+[]+!![]+!![]+!![]+!![]+!![]+!![]+[])+(!+[]+!![]+!![]+!![]+!![]+!![]+!![]+!![]+!![])+(!+[]+!![]+!![]+!![]+!![]+!![]+!![])+(+[])+(+[])+(!+[]+!![]+!![])+(!+[]+!![]+!![]+!![])+(!+[]+!![]+!![])+(!+[]+!![]+!![]+!![]+!![]+!![]+!![]))/+((!+[]+!![]+!![]+!![]+!![]+!![]+!![]+!![]+[])+(!+[]+!![]+!![]+!![]+!![]+!![]+!![]+!![])+(+[])+(!+[]+!![])+(!+[]+!![]+!![]+!![])+(!+[]+!![]+!![]+!![]+!![]+!![]+!![])+(+!![])+(+!![])+(+!![]))</div>\n",
      "  \n",
      "</div>\n",
      "\n",
      "          \n",
      "          <div class=\"attribution\">\n",
      "            <a href=\"https://www.cloudflare.com/5xx-error-landing?utm_source=iuam\" target=\"_blank\" style=\"font-size: 12px;\">DDoS protection by Cloudflare</a>\n",
      "            <br>\n",
      "            Ray ID: 512fa2a54a8c7770\n",
      "          </div>\n",
      "      </td>\n",
      "     \n",
      "    </tr>\n",
      "  </table>\n",
      "</body>\n",
      "</html>\n",
      "\n"
     ]
    }
   ],
   "source": [
    "import requests\n",
    "from bs4 import BeautifulSoup\n",
    "from urllib.parse import urlencode\n",
    "\n",
    "\n",
    "opener = requests.Session()\n",
    "url = 'https://pan.baidu.com/s/1EwqgZef1jiFWkfGDEFmSwA'\n",
    "path = url.split('.com')[-1]\n",
    "headers = {':authority': 'pan.baiduwp.com',\n",
    " ':method': 'GET',\n",
    " ':path': path,\n",
    " ':scheme': 'https',\n",
    " 'accept': 'text/html,application/xhtml+xml,application/xml;q=0.9,image/webp,image/apng,*/*;q=0.8,application/signed-exchange;v=b3',\n",
    " 'accept-encoding': 'gzip, deflate, br',\n",
    " 'accept-language': 'zh-TW,zh-CN;q=0.9,zh;q=0.8,en-GB;q=0.7,en;q=0.6,ja;q=0.5',\n",
    " 'cache-control': 'no-cache',\n",
    " 'pragma': 'no-cache',\n",
    " 'referer': f'{url}',\n",
    " 'sec-fetch-mode': 'navigate',\n",
    " 'sec-fetch-site': 'none',\n",
    " 'sec-fetch-user': '?1',\n",
    " 'upgrade-insecure-requests': '1',\n",
    " 'user-agent': 'Opera/9.80 (Windows NT 6.0) Presto/2.12.388 Version/12.14'}\n",
    "\n",
    "# 第一次请求会返回503, 根据cookies去访问新的url\n",
    "req = opener.get(url.replace('baidu', 'baiduwp'))\n",
    "print(req.status_code)\n",
    "soup = BeautifulSoup(req.content.decode('utf-8'))\n",
    "ret = soup.find_all('input')[:-1]\n",
    "full = url.replace('baidu', 'baiduwp') + '?' + urlencode({node.attrs['name']: node.attrs['value'] for node in ret})\n",
    "print(full)\n",
    "req2 = opener.get(full)\n",
    "print(req.content.decode('utf-8'))\n",
    "# 再从新的url返回原来的url\n",
    "\n",
    "# 点击触发js,待完成"
   ]
  },
  {
   "cell_type": "code",
   "execution_count": 39,
   "metadata": {
    "ExecuteTime": {
     "end_time": "2019-09-08T08:44:05.311255Z",
     "start_time": "2019-09-08T08:44:05.307320Z"
    }
   },
   "outputs": [
    {
     "data": {
      "text/plain": [
       "503"
      ]
     },
     "execution_count": 39,
     "metadata": {},
     "output_type": "execute_result"
    }
   ],
   "source": [
    "req2.status_code"
   ]
  }
 ],
 "metadata": {
  "kernelspec": {
   "display_name": "Python 3",
   "language": "python",
   "name": "python3"
  },
  "language_info": {
   "codemirror_mode": {
    "name": "ipython",
    "version": 3
   },
   "file_extension": ".py",
   "mimetype": "text/x-python",
   "name": "python",
   "nbconvert_exporter": "python",
   "pygments_lexer": "ipython3",
   "version": "3.7.3"
  }
 },
 "nbformat": 4,
 "nbformat_minor": 2
}
